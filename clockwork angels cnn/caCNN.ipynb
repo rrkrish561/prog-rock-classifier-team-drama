{
 "cells": [
  {
   "cell_type": "code",
   "execution_count": 77,
   "metadata": {},
   "outputs": [],
   "source": [
    "import os\n",
    "import pandas as pd\n",
    "import numpy as np\n",
    "import librosa\n",
    "import librosa.display\n",
    "from pydub import AudioSegment\n",
    "import matplotlib.pyplot as plt\n",
    "import seaborn as sns\n",
    "import json\n",
    "from sklearn.model_selection import train_test_split\n",
    "from sklearn.preprocessing import MinMaxScaler\n",
    "import tensorflow as tf\n",
    "import tensorflow.keras as keras\n",
    "from sklearn.metrics import confusion_matrix, accuracy_score"
   ]
  },
  {
   "cell_type": "code",
   "execution_count": null,
   "metadata": {},
   "outputs": [],
   "source": [
    "# Convert songs in Progressive_Rock_Songs from FLAC and mp3 to .wav format:\n",
    "def convert_to_wav(dir1):\n",
    "    for file in os.scandir(dir1):\n",
    "        out_file = os.path.join(dir1, os.path.splitext(os.path.basename(file.path))[0] + \".wav\")\n",
    "        try:\n",
    "            AudioSegment.from_file(file.path).export(out_file, format=\"wav\")\n",
    "            os.remove(file.path)\n",
    "        except:\n",
    "            print(\"skipping\" + file.path)"
   ]
  },
  {
   "cell_type": "code",
   "execution_count": null,
   "metadata": {},
   "outputs": [],
   "source": [
    "convert_to_wav('./Progressive_Rock_Songs')"
   ]
  },
  {
   "cell_type": "code",
   "execution_count": null,
   "metadata": {},
   "outputs": [],
   "source": [
    "convert_to_wav('./Not_Progressive_Rock/Other_Songs')\n",
    "convert_to_wav('./Not_Progressive_Rock/Top_Of_The_Pops')"
   ]
  },
  {
   "cell_type": "code",
   "execution_count": 20,
   "metadata": {},
   "outputs": [],
   "source": [
    "\n",
    "# Clockwork Angels CNN baseline\n",
    "def make_mel_spectrogram_df(dir1):\n",
    "\n",
    "    # Creating empty lists for mel spectrograms and labels\n",
    "    labels = []\n",
    "    mel_specs = []\n",
    "    names = []\n",
    "    # Looping through each file in the directory\n",
    "    for file in os.scandir(dir1):\n",
    "        # Loading in the audio file\n",
    "        y, sr = librosa.core.load(file)\n",
    "\n",
    "        # Extracting the label and adding it to the list\n",
    "        names.append(file)\n",
    "        if 'Not' in dir1:\n",
    "            labels.append(\"0\")\n",
    "        else:\n",
    "            labels.append(\"1\")\n",
    "        # Computing the mel spectrograms\n",
    "        spect = librosa.feature.melspectrogram(y=y, sr=sr, n_fft=2048, hop_length=1024)\n",
    "        spect = librosa.power_to_db(spect, ref=np.max)\n",
    "\n",
    "        # Adjusting the size to be 128 x 646\n",
    "        if spect.shape[1] != 646:\n",
    "            spect.resize(128,646, refcheck=False)\n",
    "\n",
    "        # Flattening to fit into dataframe and adding to the list\n",
    "        spect = spect.flatten()\n",
    "        mel_specs.append(spect)\n",
    "\n",
    "\n",
    "    # Converting the lists to arrays so we can stack them\n",
    "    mel_specs = np.array(mel_specs)\n",
    "    labels = np.array(labels).reshape(len(labels),1)\n",
    "    names = np.array(names).reshape(len(names),1)\n",
    "    # print(names)\n",
    "    # Create dataframe\n",
    "    df = pd.DataFrame(np.hstack((mel_specs, labels, names)))\n",
    "    #df.to_csv('mel_train_data.csv', index=False)\n",
    "    # Returning the mel spectrograms and labels\n",
    "    return df"
   ]
  },
  {
   "cell_type": "code",
   "execution_count": 21,
   "metadata": {},
   "outputs": [],
   "source": [
    "df = make_mel_spectrogram_df('./Progressive_Rock_Songs')\n",
    "df2 = make_mel_spectrogram_df('./Not_Progressive_Rock/Other_Songs')\n",
    "df3 = make_mel_spectrogram_df('./Not_Progressive_Rock/Top_Of_The_Pops')"
   ]
  },
  {
   "cell_type": "code",
   "execution_count": 65,
   "metadata": {},
   "outputs": [],
   "source": [
    "frames = [df, df2, df3]\n",
    "data = pd.concat(frames)\n",
    "data = data.iloc[: , :-1]"
   ]
  },
  {
   "cell_type": "code",
   "execution_count": 66,
   "metadata": {},
   "outputs": [],
   "source": [
    "data = data.astype(float)"
   ]
  },
  {
   "cell_type": "code",
   "execution_count": 67,
   "metadata": {},
   "outputs": [],
   "source": [
    "scaler = MinMaxScaler()\n",
    "data_scaled = scaler.fit_transform(data.abs())\n",
    "data_scaled = pd.DataFrame(data_scaled)"
   ]
  },
  {
   "cell_type": "code",
   "execution_count": 24,
   "metadata": {},
   "outputs": [],
   "source": [
    "data.to_csv('mel_train_data.csv', index=False)"
   ]
  },
  {
   "cell_type": "code",
   "execution_count": 70,
   "metadata": {},
   "outputs": [],
   "source": [
    "X = data_scaled.iloc[:, :-1]\n",
    "X = np.array(X)\n",
    "X = X.reshape(X.shape[0], 128, 646, 1)\n",
    "Y = data_scaled.iloc[:, -1]\n",
    "Y = np.array(Y)\n",
    "\n",
    "X_train, X_val, Y_train, Y_val = train_test_split(X, Y, train_size=0.7, random_state=42)"
   ]
  },
  {
   "cell_type": "code",
   "execution_count": 74,
   "metadata": {},
   "outputs": [],
   "source": [
    "#Build netowrk architecture\n",
    "model = keras.Sequential([\n",
    "        keras.layers.Conv2D(filters = 16,\n",
    "                         kernel_size = (3,3),\n",
    "                         activation = \"relu\",\n",
    "                         input_shape = (128, 646, 1)),\n",
    "\n",
    "        keras.layers.MaxPooling2D(pool_size = (2,4)),\n",
    "        keras.layers.Dropout(0.2),\n",
    "\n",
    "         keras.layers.Conv2D(filters = 32,\n",
    "                         kernel_size = (3,3),\n",
    "                         activation = \"relu\"),\n",
    "\n",
    "        keras.layers.MaxPooling2D(pool_size = (2,4)),\n",
    "        keras.layers.Dropout(0.2),\n",
    "\n",
    "        keras.layers.Flatten(),\n",
    "\n",
    "        keras.layers.Dense(64, activation = \"relu\",\n",
    "                           kernel_regularizer = keras.regularizers.l2(0.001)),\n",
    "\n",
    "        keras.layers.Dropout(0.3),\n",
    "\n",
    "        keras.layers.Dense(2, activation = \"sigmoid\")\n",
    "        ])\n",
    "        \n",
    "#compile network\n",
    "#optimizer = keras.optimizers.Adam(learning_rate=0.0001)\n",
    "model.compile(optimizer=\"adam\", loss=\"sparse_categorical_crossentropy\", metrics=[\"accuracy\"])"
   ]
  },
  {
   "cell_type": "code",
   "execution_count": 75,
   "metadata": {},
   "outputs": [
    {
     "data": {
      "text/plain": [
       "<tensorflow.python.keras.callbacks.History at 0x2be1361a0d0>"
      ]
     },
     "execution_count": 75,
     "metadata": {},
     "output_type": "execute_result"
    }
   ],
   "source": [
    "#train network\n",
    "model.fit(X_train, Y_train, epochs = 50, batch_size = 32, shuffle=True, class_weight={0: 1, 1: 1.5}, verbose=0)"
   ]
  },
  {
   "cell_type": "code",
   "execution_count": 76,
   "metadata": {},
   "outputs": [
    {
     "name": "stdout",
     "output_type": "stream",
     "text": [
      "6/6 [==============================] - 1s 164ms/step - loss: 0.0879 - accuracy: 1.0000\n",
      "3/3 [==============================] - 0s 107ms/step - loss: 0.9166 - accuracy: 0.8313\n"
     ]
    },
    {
     "data": {
      "text/plain": [
       "[0.9166168570518494, 0.8313252925872803]"
      ]
     },
     "execution_count": 76,
     "metadata": {},
     "output_type": "execute_result"
    }
   ],
   "source": [
    "model.evaluate(X_train, Y_train)\n",
    "model.evaluate(X_val, Y_val)"
   ]
  },
  {
   "cell_type": "code",
   "execution_count": 81,
   "metadata": {},
   "outputs": [
    {
     "data": {
      "image/png": "[encoded data removed]",
      "text/plain": [
       "<Figure size 432x288 with 2 Axes>"
      ]
     },
     "metadata": {
      "needs_background": "light"
     },
     "output_type": "display_data"
    },
    {
     "data": {
      "image/png": "[encoded data removed]",
      "text/plain": [
       "<Figure size 432x288 with 2 Axes>"
      ]
     },
     "metadata": {
      "needs_background": "light"
     },
     "output_type": "display_data"
    }
   ],
   "source": [
    "pred_train = model.predict_classes(X_train)\n",
    "pred_val = model.predict_classes(X_val)\n",
    "\n",
    "cm0 = confusion_matrix(Y_train, pred_train)\n",
    "fig0 = plt.figure()\n",
    "sns.heatmap(cm0, annot=True)\n",
    "plt.show()\n",
    "\n",
    "cm1 = confusion_matrix(Y_val, pred_val)\n",
    "fig1 = plt.figure()\n",
    "sns.heatmap(cm1, annot=True)\n",
    "plt.show()"
   ]
  }
 ],
 "metadata": {
  "interpreter": {
   "hash": "4fd77fca48c9a88914212e539cd25920a79c7c49540c56ec341aef38d3ae3150"
  },
  "kernelspec": {
   "display_name": "Python 3.8.5 64-bit ('base': conda)",
   "language": "python",
   "name": "python3"
  },
  "language_info": {
   "codemirror_mode": {
    "name": "ipython",
    "version": 3
   },
   "file_extension": ".py",
   "mimetype": "text/x-python",
   "name": "python",
   "nbconvert_exporter": "python",
   "pygments_lexer": "ipython3",
   "version": "3.8.5"
  },
  "orig_nbformat": 4
 },
 "nbformat": 4,
 "nbformat_minor": 2
}
